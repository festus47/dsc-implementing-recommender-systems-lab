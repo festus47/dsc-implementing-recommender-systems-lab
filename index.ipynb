{
 "cells": [
  {
   "cell_type": "markdown",
   "metadata": {},
   "source": [
    "# Implementing Recommender Systems - Lab\n",
    "\n",
    "## Introduction\n",
    "\n",
    "In this lab, you'll practice creating a recommender system model using `surprise`. You'll also get the chance to create a more complete recommender system pipeline to obtain the top recommendations for a specific user.\n"
   ]
  },
  {
   "cell_type": "markdown",
   "metadata": {},
   "source": [
    "## Objectives\n",
    "\n",
    "In this lab you will: \n",
    "\n",
    "- Use surprise's built-in reader class to process data to work with recommender algorithms \n",
    "- Obtain a prediction for a specific user for a particular item \n",
    "- Introduce a new user with rating to a rating matrix and make recommendations for them \n",
    "- Create a function that will return the top n recommendations for a user \n"
   ]
  },
  {
   "cell_type": "markdown",
   "metadata": {},
   "source": [
    "For this lab, we will be using the famous 1M movie dataset. It contains a collection of user ratings for many different movies. In the last lesson, you were exposed to working with `surprise` datasets. In this lab, you will also go through the process of reading in a dataset into the `surprise` dataset format. To begin with, load the dataset into a Pandas DataFrame. Determine which columns are necessary for your recommendation system and drop any extraneous ones."
   ]
  },
  {
   "cell_type": "code",
   "execution_count": 1,
   "metadata": {},
   "outputs": [
    {
     "name": "stdout",
     "output_type": "stream",
     "text": [
      "<class 'pandas.core.frame.DataFrame'>\n",
      "RangeIndex: 100836 entries, 0 to 100835\n",
      "Data columns (total 4 columns):\n",
      " #   Column     Non-Null Count   Dtype  \n",
      "---  ------     --------------   -----  \n",
      " 0   userId     100836 non-null  int64  \n",
      " 1   movieId    100836 non-null  int64  \n",
      " 2   rating     100836 non-null  float64\n",
      " 3   timestamp  100836 non-null  int64  \n",
      "dtypes: float64(1), int64(3)\n",
      "memory usage: 3.1 MB\n"
     ]
    }
   ],
   "source": [
    "import pandas as pd\n",
    "df = pd.read_csv('./ml-latest-small/ratings.csv')\n",
    "df.info()"
   ]
  },
  {
   "cell_type": "code",
   "execution_count": 2,
   "metadata": {},
   "outputs": [],
   "source": [
    "# Drop unnecessary columns\n",
    "new_df = df.drop(columns=['timestamp'])"
   ]
  },
  {
   "cell_type": "markdown",
   "metadata": {},
   "source": [
    "It's now time to transform the dataset into something compatible with `surprise`. In order to do this, you're going to need `Reader` and `Dataset` classes. There's a method in `Dataset` specifically for loading dataframes."
   ]
  },
  {
   "cell_type": "code",
   "execution_count": 3,
   "metadata": {},
   "outputs": [],
   "source": [
    "from surprise import Reader, Dataset\n",
    "# read in values as Surprise dataset \n",
    "# Define a Reader object\n",
    "# The rating scale is specified; for the MovieLens dataset, ratings typically range from 0.5 to 5.0\n",
    "reader = Reader(rating_scale=(0.5, 5.0))\n",
    "\n",
    "# Load the dataset from the DataFrame\n",
    "data = Dataset.load_from_df(new_df[['userId', 'movieId', 'rating']], reader)\n"
   ]
  },
  {
   "cell_type": "markdown",
   "metadata": {},
   "source": [
    "Let's look at how many users and items we have in our dataset. If using neighborhood-based methods, this will help us determine whether or not we should perform user-user or item-item similarity"
   ]
  },
  {
   "cell_type": "code",
   "execution_count": 4,
   "metadata": {},
   "outputs": [
    {
     "name": "stdout",
     "output_type": "stream",
     "text": [
      "Number of users:  610 \n",
      "\n",
      "Number of items:  9724\n"
     ]
    }
   ],
   "source": [
    "dataset = data.build_full_trainset()\n",
    "print('Number of users: ', dataset.n_users, '\\n')\n",
    "print('Number of items: ', dataset.n_items)"
   ]
  },
  {
   "cell_type": "markdown",
   "metadata": {},
   "source": [
    "## Determine the best model \n",
    "\n",
    "Now, compare the different models and see which ones perform best. For consistency sake, use RMSE to evaluate models. Remember to cross-validate! Can you get a model with a higher average RMSE on test data than 0.869?"
   ]
  },
  {
   "cell_type": "code",
   "execution_count": 6,
   "metadata": {},
   "outputs": [],
   "source": [
    "# importing relevant libraries\n",
    "from surprise.model_selection import cross_validate\n",
    "from surprise.prediction_algorithms import SVD\n",
    "from surprise.prediction_algorithms import KNNWithMeans, KNNBasic, KNNBaseline\n",
    "from surprise.model_selection import GridSearchCV\n",
    "import numpy as np"
   ]
  },
  {
   "cell_type": "code",
   "execution_count": 7,
   "metadata": {},
   "outputs": [
    {
     "name": "stdout",
     "output_type": "stream",
     "text": [
      "Best RMSE score: 0.8550521122374983\n",
      "Best parameters: {'n_factors': 150, 'n_epochs': 30, 'lr_all': 0.01, 'reg_all': 0.1}\n"
     ]
    }
   ],
   "source": [
    "## Perform a gridsearch with SVD\n",
    "# ⏰ This cell may take several minutes to run\n",
    "# Define the parameter grid to search\n",
    "param_grid = {\n",
    "    'n_factors': [50, 100, 150],  # Number of factors\n",
    "    'n_epochs': [20, 30],         # Number of iterations\n",
    "    'lr_all': [0.005, 0.01],      # Learning rate for all parameters\n",
    "    'reg_all': [0.02, 0.1]        # Regularization term\n",
    "}\n",
    "\n",
    "# Perform grid search using cross-validation\n",
    "gs = GridSearchCV(SVD, param_grid, measures=['rmse'], cv=5)\n",
    "\n",
    "# Fit the grid search\n",
    "gs.fit(data)\n",
    "\n",
    "# Output the best RMSE score and the corresponding parameters\n",
    "print(f\"Best RMSE score: {gs.best_score['rmse']}\")\n",
    "print(f\"Best parameters: {gs.best_params['rmse']}\")"
   ]
  },
  {
   "cell_type": "code",
   "execution_count": 8,
   "metadata": {},
   "outputs": [
    {
     "name": "stdout",
     "output_type": "stream",
     "text": [
      "Best RMSE score: 0.8550521122374983\n",
      "Optimal parameters for SVD:\n",
      "n_factors: 150\n",
      "n_epochs: 30\n",
      "lr_all: 0.01\n",
      "reg_all: 0.1\n"
     ]
    }
   ],
   "source": [
    "# print out optimal parameters for SVD after GridSearch\n",
    "print(f\"Best RMSE score: {gs.best_score['rmse']}\")\n",
    "print(\"Optimal parameters for SVD:\")\n",
    "for param, value in gs.best_params['rmse'].items():\n",
    "    print(f\"{param}: {value}\")"
   ]
  },
  {
   "cell_type": "code",
   "execution_count": 9,
   "metadata": {},
   "outputs": [
    {
     "name": "stdout",
     "output_type": "stream",
     "text": [
      "Computing the msd similarity matrix...\n",
      "Done computing similarity matrix.\n",
      "Computing the msd similarity matrix...\n",
      "Done computing similarity matrix.\n",
      "Computing the msd similarity matrix...\n",
      "Done computing similarity matrix.\n",
      "Computing the msd similarity matrix...\n",
      "Done computing similarity matrix.\n",
      "Computing the msd similarity matrix...\n",
      "Done computing similarity matrix.\n",
      "Evaluating RMSE of algorithm KNNBasic on 5 split(s).\n",
      "\n",
      "                  Fold 1  Fold 2  Fold 3  Fold 4  Fold 5  Mean    Std     \n",
      "RMSE (testset)    0.9545  0.9445  0.9406  0.9469  0.9449  0.9463  0.0046  \n",
      "Fit time          0.54    0.60    0.57    0.57    0.56    0.57    0.02    \n",
      "Test time         4.56    4.47    4.59    4.59    4.47    4.54    0.05    \n",
      "Mean RMSE: 0.9462696152137238\n"
     ]
    }
   ],
   "source": [
    "# cross validating with KNNBasic\n",
    "# Define the KNNBasic algorithm\n",
    "knn_basic = KNNBasic()\n",
    "\n",
    "# Perform cross-validation\n",
    "cv_results = cross_validate(knn_basic, data, measures=['rmse'], cv=5, verbose=True)\n",
    "\n",
    "# Output the RMSE results for each fold and the mean RMSE\n",
    "print(f\"Mean RMSE: {np.mean(cv_results['test_rmse'])}\")"
   ]
  },
  {
   "cell_type": "code",
   "execution_count": 10,
   "metadata": {},
   "outputs": [
    {
     "name": "stdout",
     "output_type": "stream",
     "text": [
      "Computing the msd similarity matrix...\n",
      "Done computing similarity matrix.\n",
      "Computing the msd similarity matrix...\n",
      "Done computing similarity matrix.\n",
      "Computing the msd similarity matrix...\n",
      "Done computing similarity matrix.\n",
      "Computing the msd similarity matrix...\n",
      "Done computing similarity matrix.\n",
      "Computing the msd similarity matrix...\n",
      "Done computing similarity matrix.\n",
      "Evaluating RMSE of algorithm KNNBasic on 5 split(s).\n",
      "\n",
      "                  Fold 1  Fold 2  Fold 3  Fold 4  Fold 5  Mean    Std     \n",
      "RMSE (testset)    0.9456  0.9523  0.9532  0.9456  0.9399  0.9473  0.0049  \n",
      "Fit time          0.53    0.57    0.57    0.56    0.56    0.56    0.01    \n",
      "Test time         4.46    4.45    4.64    4.68    4.63    4.57    0.10    \n",
      "Average RMSE score for the test set: 0.9473126501578882\n"
     ]
    }
   ],
   "source": [
    "# print out the average RMSE score for the test set\n",
    "# Perform cross-validation\n",
    "cv_results = cross_validate(KNNBasic(), data, measures=['rmse'], cv=5, verbose=True)\n",
    "\n",
    "# Calculate and print the average RMSE for the test set\n",
    "average_rmse = np.mean(cv_results['test_rmse'])\n",
    "print(f\"Average RMSE score for the test set: {average_rmse}\")"
   ]
  },
  {
   "cell_type": "code",
   "execution_count": 11,
   "metadata": {},
   "outputs": [
    {
     "name": "stdout",
     "output_type": "stream",
     "text": [
      "Estimating biases using als...\n",
      "Computing the msd similarity matrix...\n",
      "Done computing similarity matrix.\n",
      "Estimating biases using als...\n",
      "Computing the msd similarity matrix...\n",
      "Done computing similarity matrix.\n",
      "Estimating biases using als...\n",
      "Computing the msd similarity matrix...\n",
      "Done computing similarity matrix.\n",
      "Estimating biases using als...\n",
      "Computing the msd similarity matrix...\n",
      "Done computing similarity matrix.\n",
      "Estimating biases using als...\n",
      "Computing the msd similarity matrix...\n",
      "Done computing similarity matrix.\n",
      "Evaluating RMSE of algorithm KNNBaseline on 5 split(s).\n",
      "\n",
      "                  Fold 1  Fold 2  Fold 3  Fold 4  Fold 5  Mean    Std     \n",
      "RMSE (testset)    0.8707  0.8779  0.8772  0.8752  0.8673  0.8737  0.0041  \n",
      "Fit time          1.00    0.98    1.02    0.96    0.96    0.98    0.02    \n",
      "Test time         6.47    6.37    6.42    6.57    6.54    6.48    0.07    \n",
      "Average RMSE score for KNNBaseline: 0.8736821469926725\n"
     ]
    }
   ],
   "source": [
    "# cross validating with KNNBaseline\n",
    "# Define the KNNBaseline algorithm\n",
    "knn_baseline = KNNBaseline()\n",
    "\n",
    "# Perform cross-validation\n",
    "cv_results = cross_validate(knn_baseline, data, measures=['rmse'], cv=5, verbose=True)\n",
    "\n",
    "# Calculate and print the average RMSE for the test set\n",
    "average_rmse = np.mean(cv_results['test_rmse'])\n",
    "print(f\"Average RMSE score for KNNBaseline: {average_rmse}\")"
   ]
  },
  {
   "cell_type": "code",
   "execution_count": 12,
   "metadata": {},
   "outputs": [
    {
     "name": "stdout",
     "output_type": "stream",
     "text": [
      "Estimating biases using als...\n",
      "Computing the msd similarity matrix...\n",
      "Done computing similarity matrix.\n",
      "Estimating biases using als...\n",
      "Computing the msd similarity matrix...\n",
      "Done computing similarity matrix.\n",
      "Estimating biases using als...\n",
      "Computing the msd similarity matrix...\n",
      "Done computing similarity matrix.\n",
      "Estimating biases using als...\n",
      "Computing the msd similarity matrix...\n",
      "Done computing similarity matrix.\n",
      "Estimating biases using als...\n",
      "Computing the msd similarity matrix...\n",
      "Done computing similarity matrix.\n",
      "Evaluating RMSE of algorithm KNNBaseline on 5 split(s).\n",
      "\n",
      "                  Fold 1  Fold 2  Fold 3  Fold 4  Fold 5  Mean    Std     \n",
      "RMSE (testset)    0.8665  0.8760  0.8673  0.8817  0.8743  0.8732  0.0057  \n",
      "Fit time          1.07    0.94    1.09    0.99    0.95    1.01    0.06    \n",
      "Test time         6.13    6.38    6.49    5.82    6.07    6.18    0.24    \n",
      "Average RMSE score for the test set: 0.8731602061189893\n"
     ]
    }
   ],
   "source": [
    "# print out the average score for the test set\n",
    "# Perform cross-validation with KNNBaseline\n",
    "cv_results = cross_validate(KNNBaseline(), data, measures=['rmse'], cv=5, verbose=True)\n",
    "\n",
    "# Calculate and print the average RMSE for the test set\n",
    "average_rmse = np.mean(cv_results['test_rmse'])\n",
    "print(f\"Average RMSE score for the test set: {average_rmse}\")\n"
   ]
  },
  {
   "cell_type": "markdown",
   "metadata": {},
   "source": [
    "Based off these outputs, it seems like the best performing model is the SVD model with `n_factors = 50` and a regularization rate of 0.05. Use that model or if you found one that performs better, feel free to use that to make some predictions."
   ]
  },
  {
   "cell_type": "markdown",
   "metadata": {},
   "source": [
    "## Making Recommendations\n",
    "\n",
    "It's important that the output for the recommendation is interpretable to people. Rather than returning the `movie_id` values, it would be far more valuable to return the actual title of the movie. As a first step, let's read in the movies to a dataframe and take a peek at what information we have about them."
   ]
  },
  {
   "cell_type": "code",
   "execution_count": 13,
   "metadata": {},
   "outputs": [],
   "source": [
    "df_movies = pd.read_csv('./ml-latest-small/movies.csv')"
   ]
  },
  {
   "cell_type": "code",
   "execution_count": 14,
   "metadata": {
    "scrolled": true
   },
   "outputs": [
    {
     "data": {
      "text/html": [
       "<div>\n",
       "<style scoped>\n",
       "    .dataframe tbody tr th:only-of-type {\n",
       "        vertical-align: middle;\n",
       "    }\n",
       "\n",
       "    .dataframe tbody tr th {\n",
       "        vertical-align: top;\n",
       "    }\n",
       "\n",
       "    .dataframe thead th {\n",
       "        text-align: right;\n",
       "    }\n",
       "</style>\n",
       "<table border=\"1\" class=\"dataframe\">\n",
       "  <thead>\n",
       "    <tr style=\"text-align: right;\">\n",
       "      <th></th>\n",
       "      <th>movieId</th>\n",
       "      <th>title</th>\n",
       "      <th>genres</th>\n",
       "    </tr>\n",
       "  </thead>\n",
       "  <tbody>\n",
       "    <tr>\n",
       "      <th>0</th>\n",
       "      <td>1</td>\n",
       "      <td>Toy Story (1995)</td>\n",
       "      <td>Adventure|Animation|Children|Comedy|Fantasy</td>\n",
       "    </tr>\n",
       "    <tr>\n",
       "      <th>1</th>\n",
       "      <td>2</td>\n",
       "      <td>Jumanji (1995)</td>\n",
       "      <td>Adventure|Children|Fantasy</td>\n",
       "    </tr>\n",
       "    <tr>\n",
       "      <th>2</th>\n",
       "      <td>3</td>\n",
       "      <td>Grumpier Old Men (1995)</td>\n",
       "      <td>Comedy|Romance</td>\n",
       "    </tr>\n",
       "    <tr>\n",
       "      <th>3</th>\n",
       "      <td>4</td>\n",
       "      <td>Waiting to Exhale (1995)</td>\n",
       "      <td>Comedy|Drama|Romance</td>\n",
       "    </tr>\n",
       "    <tr>\n",
       "      <th>4</th>\n",
       "      <td>5</td>\n",
       "      <td>Father of the Bride Part II (1995)</td>\n",
       "      <td>Comedy</td>\n",
       "    </tr>\n",
       "  </tbody>\n",
       "</table>\n",
       "</div>"
      ],
      "text/plain": [
       "   movieId                               title  \\\n",
       "0        1                    Toy Story (1995)   \n",
       "1        2                      Jumanji (1995)   \n",
       "2        3             Grumpier Old Men (1995)   \n",
       "3        4            Waiting to Exhale (1995)   \n",
       "4        5  Father of the Bride Part II (1995)   \n",
       "\n",
       "                                        genres  \n",
       "0  Adventure|Animation|Children|Comedy|Fantasy  \n",
       "1                   Adventure|Children|Fantasy  \n",
       "2                               Comedy|Romance  \n",
       "3                         Comedy|Drama|Romance  \n",
       "4                                       Comedy  "
      ]
     },
     "execution_count": 14,
     "metadata": {},
     "output_type": "execute_result"
    }
   ],
   "source": [
    "df_movies.head()"
   ]
  },
  {
   "cell_type": "markdown",
   "metadata": {},
   "source": [
    "## Making simple predictions\n",
    "Just as a reminder, let's look at how you make a prediction for an individual user and item. First, we'll fit the SVD model we had from before."
   ]
  },
  {
   "cell_type": "code",
   "execution_count": 15,
   "metadata": {},
   "outputs": [
    {
     "data": {
      "text/plain": [
       "<surprise.prediction_algorithms.matrix_factorization.SVD at 0x240d1d66760>"
      ]
     },
     "execution_count": 15,
     "metadata": {},
     "output_type": "execute_result"
    }
   ],
   "source": [
    "svd = SVD(n_factors= 50, reg_all=0.05)\n",
    "svd.fit(dataset)"
   ]
  },
  {
   "cell_type": "code",
   "execution_count": 16,
   "metadata": {},
   "outputs": [
    {
     "data": {
      "text/plain": [
       "Prediction(uid=2, iid=4, r_ui=None, est=3.064034527428012, details={'was_impossible': False})"
      ]
     },
     "execution_count": 16,
     "metadata": {},
     "output_type": "execute_result"
    }
   ],
   "source": [
    "svd.predict(2, 4)"
   ]
  },
  {
   "cell_type": "markdown",
   "metadata": {},
   "source": [
    "This prediction value is a tuple and each of the values within it can be accessed by way of indexing. Now let's put our knowledge of recommendation systems to do something interesting: making predictions for a new user!"
   ]
  },
  {
   "cell_type": "markdown",
   "metadata": {},
   "source": [
    "## Obtaining User Ratings \n",
    "\n",
    "It's great that we have working models and everything, but wouldn't it be nice to get to recommendations specifically tailored to your preferences? That's what we'll be doing now. The first step is to create a function that allows us to pick randomly selected movies. The function should present users with a movie and ask them to rate it. If they have not seen the movie, they should be able to skip rating it. \n",
    "\n",
    "The function `movie_rater()` should take as parameters: \n",
    "\n",
    "* `movie_df`: DataFrame - a dataframe containing the movie ids, name of movie, and genres\n",
    "* `num`: int - number of ratings\n",
    "* `genre`: string - a specific genre from which to draw movies\n",
    "\n",
    "The function returns:\n",
    "* rating_list : list - a collection of dictionaries in the format of {'userId': int , 'movieId': int , 'rating': float}\n",
    "\n",
    "#### This function is optional, but fun :) "
   ]
  },
  {
   "cell_type": "code",
   "execution_count": 17,
   "metadata": {},
   "outputs": [],
   "source": [
    "def movie_rater(movie_df, num, genre=None):\n",
    "    # Filter movies by genre if specified\n",
    "    if genre:\n",
    "        filtered_df = movie_df[movie_df['genres'].str.contains(genre, case=False)]\n",
    "    else:\n",
    "        filtered_df = movie_df\n",
    "    \n",
    "    # Randomly sample movies\n",
    "    sampled_movies = filtered_df.sample(n=min(num, len(filtered_df)), random_state=1)\n",
    "    \n",
    "    rating_list = []\n",
    "    \n",
    "    # Collect ratings from the user\n",
    "    for index, row in sampled_movies.iterrows():\n",
    "        print(f\"Movie: {row['title']}\")\n",
    "        try:\n",
    "            rating = float(input(\"Rate this movie (1-5) or type 'skip' to skip: \"))\n",
    "            if rating < 1 or rating > 5:\n",
    "                print(\"Rating should be between 1 and 5. Skipping...\")\n",
    "                continue\n",
    "        except ValueError:\n",
    "            print(\"Skipped rating.\")\n",
    "            continue\n",
    "        \n",
    "        # Append the rating to the list\n",
    "        rating_list.append({\n",
    "            'userId': 0,  # Assuming '0' for the new user. You can modify this as needed.\n",
    "            'movieId': row['movieId'],\n",
    "            'rating': rating\n",
    "        })\n",
    "    \n",
    "    return rating_list\n",
    "        "
   ]
  },
  {
   "cell_type": "code",
   "execution_count": 18,
   "metadata": {
    "scrolled": true
   },
   "outputs": [
    {
     "name": "stdout",
     "output_type": "stream",
     "text": [
      "Movie: Johnny Stecchino (1991)\n",
      "Rate this movie (1-5) or type 'skip' to skip: 4\n",
      "Movie: Filth (2013)\n",
      "Rate this movie (1-5) or type 'skip' to skip: 3\n",
      "Movie: Pain & Gain (2013)\n",
      "Rate this movie (1-5) or type 'skip' to skip: 5\n",
      "Movie: Cuckoo, The (Kukushka) (2002)\n",
      "Rate this movie (1-5) or type 'skip' to skip: 2\n",
      "Movie: Life-Size (2000)\n",
      "Rate this movie (1-5) or type 'skip' to skip: 4\n",
      "[{'userId': 0, 'movieId': 26732, 'rating': 4.0}, {'userId': 0, 'movieId': 105593, 'rating': 3.0}, {'userId': 0, 'movieId': 102033, 'rating': 5.0}, {'userId': 0, 'movieId': 6542, 'rating': 2.0}, {'userId': 0, 'movieId': 170837, 'rating': 4.0}]\n"
     ]
    }
   ],
   "source": [
    "# try out the new function here!\n",
    "# Assuming df_movies is your DataFrame with movie data\n",
    "ratings = movie_rater(df_movies, num=5, genre='Comedy')\n",
    "print(ratings)"
   ]
  },
  {
   "cell_type": "markdown",
   "metadata": {},
   "source": [
    "If you're struggling to come up with the above function, you can use this list of user ratings to complete the next segment"
   ]
  },
  {
   "cell_type": "markdown",
   "metadata": {},
   "source": [
    "### Making Predictions With the New Ratings\n",
    "Now that you have new ratings, you can use them to make predictions for this new user. The proper way this should work is:\n",
    "\n",
    "* add the new ratings to the original ratings DataFrame, read into a `surprise` dataset \n",
    "* train a model using the new combined DataFrame\n",
    "* make predictions for the user\n",
    "* order those predictions from highest rated to lowest rated\n",
    "* return the top n recommendations with the text of the actual movie (rather than just the index number) "
   ]
  },
  {
   "cell_type": "code",
   "execution_count": 22,
   "metadata": {},
   "outputs": [],
   "source": [
    "## add the new ratings to the original ratings DataFrame\n",
    "# Convert new ratings list to DataFrame\n",
    "user_ratings_df = pd.DataFrame(ratings)\n",
    "\n",
    "# Append new ratings to the original DataFrame\n",
    "combined_df = pd.concat([df, user_ratings_df], ignore_index=True)\n",
    "\n",
    "from surprise import Dataset, Reader\n",
    "\n",
    "# Define the Reader with the rating scale\n",
    "reader = Reader(rating_scale=(0.5, 5.0))\n",
    "\n",
    "# Load the updated DataFrame into a Surprise dataset\n",
    "data = Dataset.load_from_df(combined_df[['userId', 'movieId', 'rating']], reader)"
   ]
  },
  {
   "cell_type": "code",
   "execution_count": 24,
   "metadata": {},
   "outputs": [
    {
     "data": {
      "text/plain": [
       "<surprise.prediction_algorithms.matrix_factorization.SVD at 0x240d0c827f0>"
      ]
     },
     "execution_count": 24,
     "metadata": {},
     "output_type": "execute_result"
    }
   ],
   "source": [
    "# train a model using the new combined DataFrame\n",
    "from surprise.model_selection import train_test_split\n",
    "\n",
    "# Split the data into training and test sets\n",
    "trainset, testset = train_test_split(data, test_size=0.25)\n",
    "\n",
    "# Initialize and train the SVD model\n",
    "svd = SVD(n_factors=50, reg_all=0.05)\n",
    "svd.fit(trainset)"
   ]
  },
  {
   "cell_type": "code",
   "execution_count": 25,
   "metadata": {},
   "outputs": [],
   "source": [
    "# make predictions for the user\n",
    "# you'll probably want to create a list of tuples in the format (movie_id, predicted_score)\n",
    "def get_user_predictions(user_id, model, movie_df, trainset):\n",
    "    # Get the list of all movie IDs\n",
    "    all_movie_ids = movie_df['movieId'].unique()\n",
    "    \n",
    "    # Get the list of movie IDs that the user has already rated\n",
    "    rated_movie_ids = combined_df[combined_df['userId'] == user_id]['movieId'].unique()\n",
    "    \n",
    "    # Get the list of movie IDs that the user has not rated yet\n",
    "    unrated_movie_ids = [mid for mid in all_movie_ids if mid not in rated_movie_ids]\n",
    "    \n",
    "    # Predict ratings for the unrated movies\n",
    "    predictions = [model.predict(user_id, movie_id) for movie_id in unrated_movie_ids]\n",
    "    \n",
    "    return predictions"
   ]
  },
  {
   "cell_type": "code",
   "execution_count": 26,
   "metadata": {},
   "outputs": [
    {
     "name": "stdout",
     "output_type": "stream",
     "text": [
      "Movie ID: 318, Title: Shawshank Redemption, The (1994), Predicted Rating: 5.0\n",
      "Movie ID: 750, Title: Dr. Strangelove or: How I Learned to Stop Worrying and Love the Bomb (1964), Predicted Rating: 5.0\n",
      "Movie ID: 912, Title: Casablanca (1942), Predicted Rating: 5.0\n",
      "Movie ID: 1204, Title: Lawrence of Arabia (1962), Predicted Rating: 5.0\n",
      "Movie ID: 1250, Title: Bridge on the River Kwai, The (1957), Predicted Rating: 5.0\n",
      "Movie ID: 4973, Title: Amelie (Fabuleux destin d'Amélie Poulain, Le) (2001), Predicted Rating: 5.0\n",
      "Movie ID: 38061, Title: Kiss Kiss Bang Bang (2005), Predicted Rating: 5.0\n",
      "Movie ID: 1237, Title: Seventh Seal, The (Sjunde inseglet, Det) (1957), Predicted Rating: 4.9880430603430534\n",
      "Movie ID: 898, Title: Philadelphia Story, The (1940), Predicted Rating: 4.987476314505306\n",
      "Movie ID: 1252, Title: Chinatown (1974), Predicted Rating: 4.984303868226268\n"
     ]
    }
   ],
   "source": [
    "# order the predictions from highest to lowest rated\n",
    "def get_top_n_recommendations(predictions, n=10):\n",
    "    # Sort predictions by estimated rating in descending order\n",
    "    sorted_predictions = sorted(predictions, key=lambda x: x.est, reverse=True)\n",
    "    \n",
    "    # Extract the top N predictions\n",
    "    top_n = sorted_predictions[:n]\n",
    "    \n",
    "    return top_n\n",
    "\n",
    "# Get predictions for a specific user\n",
    "user_id = 1  # Replace with the actual user ID\n",
    "user_predictions = get_user_predictions(user_id, svd, df_movies, trainset)\n",
    "\n",
    "# Get the top N recommendations\n",
    "top_n_recommendations = get_top_n_recommendations(user_predictions, n=10)\n",
    "\n",
    "# Print recommendations with movie titles\n",
    "for pred in top_n_recommendations:\n",
    "    movie_id = pred.iid\n",
    "    movie_title = df_movies[df_movies['movieId'] == movie_id]['title'].values\n",
    "    print(f\"Movie ID: {movie_id}, Title: {movie_title[0] if len(movie_title) > 0 else 'Unknown'}, Predicted Rating: {pred.est}\")"
   ]
  },
  {
   "cell_type": "markdown",
   "metadata": {},
   "source": [
    " For the final component of this challenge, it could be useful to create a function `recommended_movies()` that takes in the parameters:\n",
    "* `user_ratings`: list - list of tuples formulated as (user_id, movie_id) (should be in order of best to worst for this individual)\n",
    "* `movie_title_df`: DataFrame \n",
    "* `n`: int - number of recommended movies \n",
    "\n",
    "The function should use a `for` loop to print out each recommended *n* movies in order from best to worst"
   ]
  },
  {
   "cell_type": "code",
   "execution_count": 49,
   "metadata": {},
   "outputs": [
    {
     "name": "stdout",
     "output_type": "stream",
     "text": [
      "Recommendation #  1 :  277    Shawshank Redemption, The (1994)\n",
      "Name: title, dtype: object \n",
      "\n",
      "Recommendation #  2 :  680    Philadelphia Story, The (1940)\n",
      "Name: title, dtype: object \n",
      "\n",
      "Recommendation #  3 :  686    Rear Window (1954)\n",
      "Name: title, dtype: object \n",
      "\n",
      "Recommendation #  4 :  602    Dr. Strangelove or: How I Learned to Stop Worr...\n",
      "Name: title, dtype: object \n",
      "\n",
      "Recommendation #  5 :  926    Amadeus (1984)\n",
      "Name: title, dtype: object \n",
      "\n"
     ]
    }
   ],
   "source": [
    "# return the top n recommendations using the \n",
    "def recommended_movies(user_ratings,movie_title_df,n):\n",
    "        pass\n",
    "            \n",
    "recommended_movies(ranked_movies,df_movies,5)"
   ]
  },
  {
   "cell_type": "markdown",
   "metadata": {},
   "source": [
    "## Level Up (Optional)\n",
    "\n",
    "* Try and chain all of the steps together into one function that asks users for ratings for a certain number of movies, then all of the above steps are performed to return the top $n$ recommendations\n",
    "* Make a recommender system that only returns items that come from a specified genre"
   ]
  },
  {
   "cell_type": "markdown",
   "metadata": {},
   "source": [
    "## Summary\n",
    "\n",
    "In this lab, you got the chance to implement a collaborative filtering model as well as retrieve recommendations from that model. You also got the opportunity to add your own recommendations to the system to get new recommendations for yourself! Next, you will learn how to use Spark to make recommender systems."
   ]
  }
 ],
 "metadata": {
  "kernelspec": {
   "display_name": "Python 3",
   "language": "python",
   "name": "python3"
  },
  "language_info": {
   "codemirror_mode": {
    "name": "ipython",
    "version": 3
   },
   "file_extension": ".py",
   "mimetype": "text/x-python",
   "name": "python",
   "nbconvert_exporter": "python",
   "pygments_lexer": "ipython3",
   "version": "3.8.5"
  },
  "toc": {
   "base_numbering": 1,
   "nav_menu": {},
   "number_sections": true,
   "sideBar": true,
   "skip_h1_title": false,
   "title_cell": "Table of Contents",
   "title_sidebar": "Contents",
   "toc_cell": false,
   "toc_position": {},
   "toc_section_display": true,
   "toc_window_display": false
  }
 },
 "nbformat": 4,
 "nbformat_minor": 2
}
